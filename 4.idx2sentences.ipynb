{
 "cells": [
  {
   "cell_type": "code",
   "execution_count": 2,
   "metadata": {},
   "outputs": [],
   "source": [
    "import numpy as np\n",
    "import torch\n",
    "import pickle\n",
    "import os\n",
    "from packages.vocab import Vocab\n",
    "from packages.batch import Batch"
   ]
  },
  {
   "cell_type": "code",
   "execution_count": 62,
   "metadata": {},
   "outputs": [],
   "source": [
    "# hyperparameters\n",
    "hidden_dim = 256\n",
    "embed_dim = 128\n",
    "batch_size = 16\n",
    "num_samples = 200\n",
    "max_encoder_steps = 200\n",
    "max_decoder_steps = 50\n",
    "beam_size = 4\n",
    "min_decoder_steps = 20 # min size of generated sequence\n",
    "vocab_size = 500\n",
    "lr = 0.15\n",
    "adagrad_init_acc = 0.1 # deprecated for pytorch\n",
    "rand_unif_init_mag = 0.02 # magnitude for lstm cells during random init\n",
    "trunc_norm_init_std = 1e-4 # std of truncated norm initialization\n",
    "max_grad_norm = 2.0 # so they do apply gradient clipping\n",
    "max_oovs = 20 # maximum number of oovs allowed?\n",
    "coverage_loss = 1.0 # lambda"
   ]
  },
  {
   "cell_type": "code",
   "execution_count": null,
   "metadata": {},
   "outputs": [],
   "source": [
    "# get vocabulary\n",
    "vocab = Vocab(500)\n",
    "vocab.w2i = np.load('word2idx.npy').item()\n",
    "vocab.i2w = np.load('idx2word.npy').item()\n",
    "vocab.count = len(vocab.w2i)"
   ]
  },
  {
   "cell_type": "code",
   "execution_count": 63,
   "metadata": {},
   "outputs": [],
   "source": [
    "# get dataset in batches\n",
    "file_dir = '/home/jatin/intern/internenv/cnn/2.stories_tokenized_100/'\n",
    "file_list = os.listdir(file_dir)\n",
    "batch = Batch(file_list,200,50,20)"
   ]
  },
  {
   "cell_type": "code",
   "execution_count": 64,
   "metadata": {},
   "outputs": [],
   "source": [
    "batch.init_minibatch()\n",
    "with open(os.path.join(file_dir,file_list[19])) as f:\n",
    "    minibatch = f.read()\n",
    "    minibatch = minibatch.split('\\n\\n')\n",
    "    minibatch = [line for line in minibatch if not line.startswith(\":==:\")]\n",
    "stories, summaries = batch.process_minibatch(minibatch,vocab)"
   ]
  },
  {
   "cell_type": "code",
   "execution_count": 65,
   "metadata": {},
   "outputs": [
    {
     "data": {
      "text/plain": [
       "\"( cnn ) -- two people were <UNK> and around <UNK> were <UNK> when a <UNK> <UNK> <UNK> <UNK> <UNK> <UNK> <UNK> , the <UNK> of <UNK> <UNK> said wednesday . the <UNK> <UNK> at <UNK> <UNK> ( just before <UNK> <UNK> <UNK> ) . the <UNK> was near the city of <UNK> , about <UNK> miles south of the <UNK> , <UNK> . <UNK> 's <UNK> <UNK> <UNK> <UNK> wednesday to <UNK> the <UNK> . <UNK> <UNK> were <UNK> , <UNK> the hospital in <UNK> , but no <UNK> were <UNK> , the <UNK> said , <UNK> <UNK> of the city were <UNK> <UNK> or <UNK> . <PAD> <PAD> <PAD> <PAD> <PAD> <PAD> <PAD> <PAD> <PAD> <PAD> <PAD> <PAD> <PAD> <PAD> <PAD> <PAD> <PAD> <PAD> <PAD> <PAD> <PAD> <PAD> <PAD> <PAD> <PAD> <PAD> <PAD> <PAD> <PAD> <PAD> <PAD> <PAD> <PAD> <PAD> <PAD> <PAD> <PAD> <PAD> <PAD> <PAD> <PAD> <PAD> <PAD> <PAD> <PAD> <PAD> <PAD> <PAD> <PAD> <PAD> <PAD> <PAD> <PAD> <PAD> <PAD> <PAD> <PAD> <PAD> <PAD> <PAD> <PAD> <PAD> <PAD> <PAD> <PAD> <PAD> <PAD> <PAD> <PAD> <PAD> <PAD> <PAD> <PAD> <PAD> <PAD> <PAD> <PAD> <PAD> <PAD> <PAD> <PAD> <PAD> <PAD> <PAD> <PAD> <PAD> <PAD> <PAD> <PAD> <PAD> <PAD> <PAD>\""
      ]
     },
     "execution_count": 65,
     "metadata": {},
     "output_type": "execute_result"
    }
   ],
   "source": [
    "idx=9\n",
    "\n",
    "' '.join(vocab.idx_list_to_word_list(stories[idx]))"
   ]
  },
  {
   "cell_type": "code",
   "execution_count": 66,
   "metadata": {},
   "outputs": [
    {
     "data": {
      "text/plain": [
       "'<SOS> around <UNK> were <UNK> . the <UNK> <UNK> just before 2 <UNK> ( <UNK> <UNK> <UNK> ) . its <UNK> was in <UNK> <UNK> . <EOS> <PAD> <PAD> <PAD> <PAD> <PAD> <PAD> <PAD> <PAD> <PAD> <PAD> <PAD> <PAD> <PAD> <PAD> <PAD> <PAD> <PAD> <PAD> <PAD> <PAD> <PAD> <PAD> <PAD>'"
      ]
     },
     "execution_count": 66,
     "metadata": {},
     "output_type": "execute_result"
    }
   ],
   "source": [
    "' '.join(vocab.idx_list_to_word_list(stories[idx],batch.idx2oov_list[idx]))\n",
    "unked = batch.unk_minibatch(summaries[idx],vocab)\n",
    "' '.join(vocab.idx_list_to_word_list(unked,batch.idx2oov_list[idx]))"
   ]
  },
  {
   "cell_type": "code",
   "execution_count": 67,
   "metadata": {},
   "outputs": [
    {
     "data": {
      "text/plain": [
       "'<SOS> around 100 were injured . the <UNK> happened just before 2 a.m. ( 9 p.m. et ) . its epicenter was in central serbia . <EOS> <PAD> <PAD> <PAD> <PAD> <PAD> <PAD> <PAD> <PAD> <PAD> <PAD> <PAD> <PAD> <PAD> <PAD> <PAD> <PAD> <PAD> <PAD> <PAD> <PAD> <PAD> <PAD> <PAD>'"
      ]
     },
     "execution_count": 67,
     "metadata": {},
     "output_type": "execute_result"
    }
   ],
   "source": [
    "' '.join(vocab.idx_list_to_word_list(summaries[idx],batch.idx2oov_list[idx]))"
   ]
  },
  {
   "cell_type": "code",
   "execution_count": 68,
   "metadata": {},
   "outputs": [
    {
     "data": {
      "text/plain": [
       "'<SOS> around <UNK> were <UNK> . the <UNK> <UNK> just before 2 <UNK> ( <UNK> <UNK> <UNK> ) . its <UNK> was in <UNK> <UNK> . <EOS> <PAD> <PAD> <PAD> <PAD> <PAD> <PAD> <PAD> <PAD> <PAD> <PAD> <PAD> <PAD> <PAD> <PAD> <PAD> <PAD> <PAD> <PAD> <PAD> <PAD> <PAD> <PAD> <PAD>'"
      ]
     },
     "execution_count": 68,
     "metadata": {},
     "output_type": "execute_result"
    }
   ],
   "source": [
    "' '.join(vocab.idx_list_to_word_list(summaries[idx]))"
   ]
  },
  {
   "cell_type": "code",
   "execution_count": 69,
   "metadata": {},
   "outputs": [
    {
     "data": {
      "text/plain": [
       "{'100': 501,\n",
       " '1:56': 514,\n",
       " '5.4': 504,\n",
       " '9': 516,\n",
       " 'a.m.': 515,\n",
       " 'affairs': 512,\n",
       " 'central': 507,\n",
       " 'earthquake': 505,\n",
       " 'epicenter': 519,\n",
       " 'et': 518,\n",
       " 'happened': 513,\n",
       " 'injured': 502,\n",
       " 'internal': 511,\n",
       " 'killed': 500,\n",
       " 'magnitude': 503,\n",
       " 'ministry': 510,\n",
       " 'overnight': 509,\n",
       " 'p.m.': 517,\n",
       " 'serbia': 508,\n",
       " 'struck': 506}"
      ]
     },
     "execution_count": 69,
     "metadata": {},
     "output_type": "execute_result"
    }
   ],
   "source": [
    "batch.oov2idx_list[idx]"
   ]
  },
  {
   "cell_type": "code",
   "execution_count": null,
   "metadata": {},
   "outputs": [],
   "source": []
  }
 ],
 "metadata": {
  "kernelspec": {
   "display_name": "Python 3",
   "language": "python",
   "name": "python3"
  },
  "language_info": {
   "codemirror_mode": {
    "name": "ipython",
    "version": 3
   },
   "file_extension": ".py",
   "mimetype": "text/x-python",
   "name": "python",
   "nbconvert_exporter": "python",
   "pygments_lexer": "ipython3",
   "version": "3.5.2"
  }
 },
 "nbformat": 4,
 "nbformat_minor": 2
}
