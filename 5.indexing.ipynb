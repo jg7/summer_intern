{
 "cells": [
  {
   "cell_type": "code",
   "execution_count": 1,
   "metadata": {},
   "outputs": [],
   "source": [
    "import torch\n",
    "import numpy as np\n",
    "from torch.autograd import Variable\n",
    "import torch.nn.functional as F"
   ]
  },
  {
   "cell_type": "code",
   "execution_count": 2,
   "metadata": {},
   "outputs": [],
   "source": [
    "vocab_size = 5\n",
    "batch_size = 10\n",
    "seq_length = 20"
   ]
  },
  {
   "cell_type": "code",
   "execution_count": 3,
   "metadata": {},
   "outputs": [],
   "source": [
    "# Generate random indices of range [0, vocab_size)\n",
    "word_indices = torch.from_numpy(np.random.randint(low=0, high=vocab_size, size=(batch_size, seq_length))).view(-1)"
   ]
  },
  {
   "cell_type": "code",
   "execution_count": 4,
   "metadata": {},
   "outputs": [],
   "source": [
    "# Generate batch indices [0, ..., 0, 1, ...1, (batch_size-1), .... (batch_size-1)]  (total length: seq_length * batch_size )\n",
    "batch_indices = torch.arange(start=0, end=batch_size).long()\n",
    "batch_indices = batch_indices.expand(seq_length, batch_size).transpose(1, 0).contiguous().view(-1)"
   ]
  },
  {
   "cell_type": "code",
   "execution_count": 5,
   "metadata": {},
   "outputs": [],
   "source": [
    "# Generate random weigths of range [0, 1)\n",
    "attn_weights = torch.rand(batch_size, seq_length)"
   ]
  },
  {
   "cell_type": "code",
   "execution_count": 6,
   "metadata": {},
   "outputs": [],
   "source": [
    "# result\n",
    "probs = torch.zeros(batch_size, vocab_size)"
   ]
  },
  {
   "cell_type": "code",
   "execution_count": 7,
   "metadata": {},
   "outputs": [],
   "source": [
    "idx_repeat = torch.arange(start=0, end=seq_length).repeat(batch_size).long()"
   ]
  },
  {
   "cell_type": "code",
   "execution_count": 8,
   "metadata": {},
   "outputs": [
    {
     "data": {
      "text/plain": [
       "torch.Size([200])"
      ]
     },
     "execution_count": 8,
     "metadata": {},
     "output_type": "execute_result"
    }
   ],
   "source": [
    "word_indices.size()"
   ]
  },
  {
   "cell_type": "code",
   "execution_count": 9,
   "metadata": {},
   "outputs": [],
   "source": [
    "probs2 = Variable(probs)\n",
    "batch_indices2 = Variable(batch_indices)\n",
    "word_indices2 = word_indices.numpy()\n",
    "attn_weights2 = Variable(attn_weights)\n",
    "probs2[batch_indices.numpy(), word_indices.numpy()] += attn_weights2[batch_indices.numpy(), idx_repeat.numpy()]"
   ]
  },
  {
   "cell_type": "code",
   "execution_count": 10,
   "metadata": {},
   "outputs": [
    {
     "data": {
      "text/plain": [
       "tensor([[ 0.8088,  0.1784,  0.0443,  0.5061,  0.2418],\n",
       "        [ 0.5254,  0.5026,  0.9206,  0.3510,  0.0818],\n",
       "        [ 0.5249,  0.0000,  0.1172,  0.7101,  0.7311],\n",
       "        [ 0.7914,  0.6612,  0.8572,  0.1940,  0.9898],\n",
       "        [ 0.5304,  0.8668,  0.6969,  0.0048,  0.9067],\n",
       "        [ 0.2230,  0.5599,  0.7898,  0.4907,  0.7803],\n",
       "        [ 0.2552,  0.8552,  0.5922,  0.3975,  0.4168],\n",
       "        [ 0.2309,  0.4772,  0.8763,  0.1861,  0.7546],\n",
       "        [ 0.2428,  0.7081,  0.2227,  0.9098,  0.8963],\n",
       "        [ 0.3179,  0.9413,  0.8003,  0.8464,  0.3830]])"
      ]
     },
     "execution_count": 10,
     "metadata": {},
     "output_type": "execute_result"
    }
   ],
   "source": [
    "probs"
   ]
  },
  {
   "cell_type": "code",
   "execution_count": 12,
   "metadata": {},
   "outputs": [
    {
     "data": {
      "text/plain": [
       "tensor([[ 0.4291,  0.0620,  0.8594,  0.6818,  0.0225,  0.0675,  0.6944,\n",
       "          0.0931,  0.3098,  0.5397,  0.2796,  0.1892,  0.2418,  0.0572,\n",
       "          0.7257,  0.1784,  0.0443,  0.4341,  0.8088,  0.5061],\n",
       "        [ 0.9888,  0.5453,  0.2050,  0.0455,  0.3620,  0.1768,  0.6707,\n",
       "          0.9206,  0.2508,  0.6847,  0.7239,  0.3049,  0.5836,  0.7111,\n",
       "          0.1649,  0.9389,  0.0818,  0.5026,  0.5254,  0.3510],\n",
       "        [ 0.9308,  0.1931,  0.4757,  0.9516,  0.4064,  0.1717,  0.3946,\n",
       "          0.4235,  0.2689,  0.6566,  0.6405,  0.2995,  0.2199,  0.1172,\n",
       "          0.2581,  0.7101,  0.8048,  0.4259,  0.5249,  0.7311],\n",
       "        [ 0.2640,  0.8155,  0.0286,  0.2798,  0.0324,  0.7892,  0.3683,\n",
       "          0.4994,  0.5579,  0.0716,  0.0678,  0.8822,  0.6828,  0.8572,\n",
       "          0.1940,  0.0126,  0.2143,  0.9898,  0.6612,  0.7914],\n",
       "        [ 0.7224,  0.6810,  0.5477,  0.8779,  0.8297,  0.6840,  0.2075,\n",
       "          0.2202,  0.1281,  0.3166,  0.8273,  0.6969,  0.5304,  0.7445,\n",
       "          0.3011,  0.5817,  0.9067,  0.0048,  0.5677,  0.8668],\n",
       "        [ 0.1269,  0.5296,  0.6084,  0.9800,  0.4514,  0.6116,  0.4227,\n",
       "          0.9813,  0.9208,  0.3684,  0.7803,  0.9587,  0.9622,  0.0062,\n",
       "          0.7120,  0.4907,  0.2736,  0.7898,  0.5599,  0.2230],\n",
       "        [ 0.5477,  0.2744,  0.9698,  0.5607,  0.0663,  0.0765,  0.9388,\n",
       "          0.7865,  0.1483,  0.8333,  0.2552,  0.8552,  0.9565,  0.6847,\n",
       "          0.1411,  0.2033,  0.5922,  0.3296,  0.3975,  0.4168],\n",
       "        [ 0.5465,  0.5382,  0.3874,  0.1910,  0.7187,  0.7546,  0.4506,\n",
       "          0.1295,  0.5763,  0.4505,  0.6193,  0.5240,  0.4262,  0.2439,\n",
       "          0.3835,  0.7171,  0.4772,  0.1861,  0.2309,  0.8763],\n",
       "        [ 0.5884,  0.0154,  0.7495,  0.9772,  0.7398,  0.1265,  0.6431,\n",
       "          0.4634,  0.2185,  0.5715,  0.7081,  0.4986,  0.8859,  0.1381,\n",
       "          0.2428,  0.1149,  0.8963,  0.2227,  0.8295,  0.9098],\n",
       "        [ 0.7518,  0.4978,  0.2108,  0.2928,  0.3663,  0.1036,  0.6972,\n",
       "          0.3262,  0.9938,  0.2540,  0.3310,  0.8464,  0.3179,  0.2983,\n",
       "          0.8003,  0.4896,  0.3830,  0.6719,  0.6528,  0.9413]])"
      ]
     },
     "execution_count": 12,
     "metadata": {},
     "output_type": "execute_result"
    }
   ],
   "source": [
    "attn_weights"
   ]
  },
  {
   "cell_type": "code",
   "execution_count": 14,
   "metadata": {},
   "outputs": [
    {
     "data": {
      "text/plain": [
       "Counter({tensor(0): 1,\n",
       "         tensor(0): 1,\n",
       "         tensor(0): 1,\n",
       "         tensor(0): 1,\n",
       "         tensor(0): 1,\n",
       "         tensor(0): 1,\n",
       "         tensor(0): 1,\n",
       "         tensor(0): 1,\n",
       "         tensor(0): 1,\n",
       "         tensor(0): 1,\n",
       "         tensor(0): 1,\n",
       "         tensor(0): 1,\n",
       "         tensor(0): 1,\n",
       "         tensor(0): 1,\n",
       "         tensor(0): 1,\n",
       "         tensor(0): 1,\n",
       "         tensor(0): 1,\n",
       "         tensor(0): 1,\n",
       "         tensor(0): 1,\n",
       "         tensor(0): 1,\n",
       "         tensor(0): 1,\n",
       "         tensor(0): 1,\n",
       "         tensor(0): 1,\n",
       "         tensor(0): 1,\n",
       "         tensor(0): 1,\n",
       "         tensor(0): 1,\n",
       "         tensor(0): 1,\n",
       "         tensor(0): 1,\n",
       "         tensor(0): 1,\n",
       "         tensor(0): 1,\n",
       "         tensor(0): 1,\n",
       "         tensor(0): 1,\n",
       "         tensor(0): 1,\n",
       "         tensor(0): 1,\n",
       "         tensor(0): 1,\n",
       "         tensor(0): 1,\n",
       "         tensor(0): 1,\n",
       "         tensor(0): 1,\n",
       "         tensor(0): 1,\n",
       "         tensor(0): 1,\n",
       "         tensor(0): 1,\n",
       "         tensor(1): 1,\n",
       "         tensor(1): 1,\n",
       "         tensor(1): 1,\n",
       "         tensor(1): 1,\n",
       "         tensor(1): 1,\n",
       "         tensor(1): 1,\n",
       "         tensor(1): 1,\n",
       "         tensor(1): 1,\n",
       "         tensor(1): 1,\n",
       "         tensor(1): 1,\n",
       "         tensor(1): 1,\n",
       "         tensor(1): 1,\n",
       "         tensor(1): 1,\n",
       "         tensor(1): 1,\n",
       "         tensor(1): 1,\n",
       "         tensor(1): 1,\n",
       "         tensor(1): 1,\n",
       "         tensor(1): 1,\n",
       "         tensor(1): 1,\n",
       "         tensor(1): 1,\n",
       "         tensor(1): 1,\n",
       "         tensor(1): 1,\n",
       "         tensor(1): 1,\n",
       "         tensor(1): 1,\n",
       "         tensor(1): 1,\n",
       "         tensor(1): 1,\n",
       "         tensor(1): 1,\n",
       "         tensor(1): 1,\n",
       "         tensor(1): 1,\n",
       "         tensor(1): 1,\n",
       "         tensor(1): 1,\n",
       "         tensor(1): 1,\n",
       "         tensor(1): 1,\n",
       "         tensor(1): 1,\n",
       "         tensor(1): 1,\n",
       "         tensor(1): 1,\n",
       "         tensor(1): 1,\n",
       "         tensor(1): 1,\n",
       "         tensor(1): 1,\n",
       "         tensor(1): 1,\n",
       "         tensor(1): 1,\n",
       "         tensor(1): 1,\n",
       "         tensor(2): 1,\n",
       "         tensor(2): 1,\n",
       "         tensor(2): 1,\n",
       "         tensor(2): 1,\n",
       "         tensor(2): 1,\n",
       "         tensor(2): 1,\n",
       "         tensor(2): 1,\n",
       "         tensor(2): 1,\n",
       "         tensor(2): 1,\n",
       "         tensor(2): 1,\n",
       "         tensor(2): 1,\n",
       "         tensor(2): 1,\n",
       "         tensor(2): 1,\n",
       "         tensor(2): 1,\n",
       "         tensor(2): 1,\n",
       "         tensor(2): 1,\n",
       "         tensor(2): 1,\n",
       "         tensor(2): 1,\n",
       "         tensor(2): 1,\n",
       "         tensor(2): 1,\n",
       "         tensor(2): 1,\n",
       "         tensor(2): 1,\n",
       "         tensor(2): 1,\n",
       "         tensor(2): 1,\n",
       "         tensor(2): 1,\n",
       "         tensor(2): 1,\n",
       "         tensor(2): 1,\n",
       "         tensor(2): 1,\n",
       "         tensor(2): 1,\n",
       "         tensor(2): 1,\n",
       "         tensor(2): 1,\n",
       "         tensor(2): 1,\n",
       "         tensor(3): 1,\n",
       "         tensor(3): 1,\n",
       "         tensor(3): 1,\n",
       "         tensor(3): 1,\n",
       "         tensor(3): 1,\n",
       "         tensor(3): 1,\n",
       "         tensor(3): 1,\n",
       "         tensor(3): 1,\n",
       "         tensor(3): 1,\n",
       "         tensor(3): 1,\n",
       "         tensor(3): 1,\n",
       "         tensor(3): 1,\n",
       "         tensor(3): 1,\n",
       "         tensor(3): 1,\n",
       "         tensor(3): 1,\n",
       "         tensor(3): 1,\n",
       "         tensor(3): 1,\n",
       "         tensor(3): 1,\n",
       "         tensor(3): 1,\n",
       "         tensor(3): 1,\n",
       "         tensor(3): 1,\n",
       "         tensor(3): 1,\n",
       "         tensor(3): 1,\n",
       "         tensor(3): 1,\n",
       "         tensor(3): 1,\n",
       "         tensor(3): 1,\n",
       "         tensor(3): 1,\n",
       "         tensor(3): 1,\n",
       "         tensor(3): 1,\n",
       "         tensor(3): 1,\n",
       "         tensor(3): 1,\n",
       "         tensor(3): 1,\n",
       "         tensor(3): 1,\n",
       "         tensor(3): 1,\n",
       "         tensor(3): 1,\n",
       "         tensor(3): 1,\n",
       "         tensor(3): 1,\n",
       "         tensor(3): 1,\n",
       "         tensor(3): 1,\n",
       "         tensor(3): 1,\n",
       "         tensor(3): 1,\n",
       "         tensor(3): 1,\n",
       "         tensor(3): 1,\n",
       "         tensor(3): 1,\n",
       "         tensor(4): 1,\n",
       "         tensor(4): 1,\n",
       "         tensor(4): 1,\n",
       "         tensor(4): 1,\n",
       "         tensor(4): 1,\n",
       "         tensor(4): 1,\n",
       "         tensor(4): 1,\n",
       "         tensor(4): 1,\n",
       "         tensor(4): 1,\n",
       "         tensor(4): 1,\n",
       "         tensor(4): 1,\n",
       "         tensor(4): 1,\n",
       "         tensor(4): 1,\n",
       "         tensor(4): 1,\n",
       "         tensor(4): 1,\n",
       "         tensor(4): 1,\n",
       "         tensor(4): 1,\n",
       "         tensor(4): 1,\n",
       "         tensor(4): 1,\n",
       "         tensor(4): 1,\n",
       "         tensor(4): 1,\n",
       "         tensor(4): 1,\n",
       "         tensor(4): 1,\n",
       "         tensor(4): 1,\n",
       "         tensor(4): 1,\n",
       "         tensor(4): 1,\n",
       "         tensor(4): 1,\n",
       "         tensor(4): 1,\n",
       "         tensor(4): 1,\n",
       "         tensor(4): 1,\n",
       "         tensor(4): 1,\n",
       "         tensor(4): 1,\n",
       "         tensor(4): 1,\n",
       "         tensor(4): 1,\n",
       "         tensor(4): 1,\n",
       "         tensor(4): 1,\n",
       "         tensor(4): 1,\n",
       "         tensor(4): 1,\n",
       "         tensor(4): 1,\n",
       "         tensor(4): 1,\n",
       "         tensor(4): 1})"
      ]
     },
     "execution_count": 14,
     "metadata": {},
     "output_type": "execute_result"
    }
   ],
   "source": [
    "from collections import Counter\n",
    "counter = Counter(word_indices)\n",
    "counter"
   ]
  },
  {
   "cell_type": "code",
   "execution_count": null,
   "metadata": {},
   "outputs": [],
   "source": []
  },
  {
   "cell_type": "code",
   "execution_count": null,
   "metadata": {},
   "outputs": [],
   "source": []
  },
  {
   "cell_type": "code",
   "execution_count": null,
   "metadata": {},
   "outputs": [],
   "source": []
  },
  {
   "cell_type": "code",
   "execution_count": null,
   "metadata": {},
   "outputs": [],
   "source": []
  },
  {
   "cell_type": "code",
   "execution_count": null,
   "metadata": {},
   "outputs": [],
   "source": []
  }
 ],
 "metadata": {
  "kernelspec": {
   "display_name": "Python 3",
   "language": "python",
   "name": "python3"
  },
  "language_info": {
   "codemirror_mode": {
    "name": "ipython",
    "version": 3
   },
   "file_extension": ".py",
   "mimetype": "text/x-python",
   "name": "python",
   "nbconvert_exporter": "python",
   "pygments_lexer": "ipython3",
   "version": "3.5.2"
  }
 },
 "nbformat": 4,
 "nbformat_minor": 2
}
