{
 "cells": [
  {
   "cell_type": "code",
   "execution_count": 1,
   "metadata": {},
   "outputs": [],
   "source": [
    "import os\n",
    "batch_size = 10\n",
    "input_dir = '/home/jatin/intern/internenv/cnn/1.stories_tokenized/'\n",
    "output_dir = '/home/jatin/intern/internenv/cnn/2.stories_tokenized_100/'"
   ]
  },
  {
   "cell_type": "code",
   "execution_count": 2,
   "metadata": {},
   "outputs": [],
   "source": [
    "file_list = os.listdir(path=input_dir)\n",
    "files_read = 0\n",
    "total_files = len(file_list)\n",
    "batch_count = 0"
   ]
  },
  {
   "cell_type": "code",
   "execution_count": 3,
   "metadata": {},
   "outputs": [
    {
     "name": "stdout",
     "output_type": "stream",
     "text": [
      "Saving batch 1\n",
      "Saving batch 2\n",
      "Saving batch 3\n",
      "Saving batch 4\n",
      "Saving batch 5\n",
      "Saving batch 6\n",
      "Saving batch 7\n",
      "Saving batch 8\n",
      "Saving batch 9\n",
      "Saving batch 10\n",
      "Saving batch 11\n",
      "Saving batch 12\n",
      "Saving batch 13\n",
      "Saving batch 14\n",
      "Saving batch 15\n",
      "Saving batch 16\n",
      "Saving batch 17\n",
      "Saving batch 18\n",
      "Saving batch 19\n",
      "Saving batch 20\n"
     ]
    }
   ],
   "source": [
    "while files_read<200:\n",
    "    batch_list = file_list[files_read:min(files_read+batch_size,total_files)]\n",
    "    batch_count+=1\n",
    "    files_read+=len(batch_list)\n",
    "    batch_texts = []\n",
    "    for file_name in batch_list:\n",
    "        # read text\n",
    "        with open(os.path.join(input_dir,file_name)) as f:\n",
    "            text = f.read()\n",
    "        # preprocess text\n",
    "        text = text.replace(\"\\n\\n\",' ')\n",
    "        text = text.replace(\"  \",' ')\n",
    "        text = text.replace(\"  \",' ')\n",
    "        text = text.lower()\n",
    "        # split to body and summaries\n",
    "        text = text.split('@highlight')\n",
    "        body = text[0].strip()\n",
    "        summaries = text[1:]\n",
    "        sum_out = []\n",
    "        for summary in summaries:\n",
    "            summary = summary.strip()\n",
    "            summary = summary + ' .'\n",
    "            sum_out.append(summary)\n",
    "        summaries = ' '.join(sum_out)\n",
    "        batch_texts.append(body+\":==:\"+summaries)\n",
    "    batch_texts = '\\n\\n'.join(batch_texts)\n",
    "    with open(os.path.join(output_dir,'batch_%d.txt'% batch_count),'w') as f:\n",
    "        f.write(batch_texts)\n",
    "    print(\"Saving batch %d\" % batch_count)"
   ]
  },
  {
   "cell_type": "code",
   "execution_count": null,
   "metadata": {},
   "outputs": [],
   "source": []
  },
  {
   "cell_type": "code",
   "execution_count": null,
   "metadata": {},
   "outputs": [],
   "source": []
  },
  {
   "cell_type": "code",
   "execution_count": null,
   "metadata": {},
   "outputs": [],
   "source": []
  },
  {
   "cell_type": "code",
   "execution_count": null,
   "metadata": {},
   "outputs": [],
   "source": []
  },
  {
   "cell_type": "code",
   "execution_count": null,
   "metadata": {},
   "outputs": [],
   "source": []
  }
 ],
 "metadata": {
  "kernelspec": {
   "display_name": "Python 3",
   "language": "python",
   "name": "python3"
  },
  "language_info": {
   "codemirror_mode": {
    "name": "ipython",
    "version": 3
   },
   "file_extension": ".py",
   "mimetype": "text/x-python",
   "name": "python",
   "nbconvert_exporter": "python",
   "pygments_lexer": "ipython3",
   "version": "3.5.2"
  }
 },
 "nbformat": 4,
 "nbformat_minor": 2
}
