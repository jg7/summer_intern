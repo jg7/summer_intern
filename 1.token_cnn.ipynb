{
 "cells": [
  {
   "cell_type": "code",
   "execution_count": 21,
   "metadata": {},
   "outputs": [],
   "source": [
    "import numpy as np\n",
    "import spacy\n",
    "import os\n",
    "from collections import Counter\n",
    "import torch\n",
    "import glob\n",
    "from spacy import attrs\n",
    "\n",
    "batch_size = 10\n",
    "\n",
    "nlp = spacy.load('en') # loads default English object\n",
    "cnn_dir = '/home/jatin/intern/internenv/cnn/stories/'\n",
    "cnn_tok_dir = '/home/jatin/intern/internenv/cnn/1.stories_tokenized/'"
   ]
  },
  {
   "cell_type": "code",
   "execution_count": 22,
   "metadata": {},
   "outputs": [],
   "source": [
    "file_list = [os.path.join(cnn_dir,file) for file in os.listdir(cnn_dir)]\n",
    "total_files = len(file_list)\n",
    "files_read = 0\n",
    "count = 0"
   ]
  },
  {
   "cell_type": "code",
   "execution_count": 26,
   "metadata": {
    "scrolled": true
   },
   "outputs": [
    {
     "name": "stdout",
     "output_type": "stream",
     "text": [
      "100\n",
      "200\n"
     ]
    }
   ],
   "source": [
    "for file in file_list[0:200]:\n",
    "    with open(file) as f:\n",
    "        text = f.read()\n",
    "#         text = text.lower()\n",
    "#         text = text.replace('\\n\\n',' ')\n",
    "#         text = text.replace('(cnn)','')\n",
    "#         text = text.split(\"@highlight\")\n",
    "#         body = text[0]\n",
    "    body_words = [x.text for x in list(nlp(text))]\n",
    "    out = ' '.join(body_words)\n",
    "#     print(out)\n",
    "    out_file = file.replace(cnn_dir,cnn_tok_dir)\n",
    "    with open(out_file,'w') as f:\n",
    "        f.write(out)\n",
    "    count+=1\n",
    "    if count%100==0:\n",
    "        print(count)"
   ]
  },
  {
   "cell_type": "code",
   "execution_count": null,
   "metadata": {},
   "outputs": [],
   "source": []
  },
  {
   "cell_type": "code",
   "execution_count": null,
   "metadata": {},
   "outputs": [],
   "source": []
  },
  {
   "cell_type": "code",
   "execution_count": null,
   "metadata": {},
   "outputs": [],
   "source": []
  }
 ],
 "metadata": {
  "kernelspec": {
   "display_name": "Python 3",
   "language": "python",
   "name": "python3"
  },
  "language_info": {
   "codemirror_mode": {
    "name": "ipython",
    "version": 3
   },
   "file_extension": ".py",
   "mimetype": "text/x-python",
   "name": "python",
   "nbconvert_exporter": "python",
   "pygments_lexer": "ipython3",
   "version": "3.5.2"
  }
 },
 "nbformat": 4,
 "nbformat_minor": 2
}
