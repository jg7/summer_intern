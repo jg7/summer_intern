{
 "cells": [
  {
   "cell_type": "code",
   "execution_count": 8,
   "metadata": {},
   "outputs": [],
   "source": [
    "import collections\n",
    "from packages.vocab import Vocab\n",
    "import os\n",
    "input_dir = '/home/jatin/intern/internenv/cnn/2.stories_tokenized_100/'"
   ]
  },
  {
   "cell_type": "code",
   "execution_count": 9,
   "metadata": {},
   "outputs": [],
   "source": [
    "vocab = Vocab(500)\n",
    "batch_count=0\n",
    "file_list = os.listdir(path=input_dir)"
   ]
  },
  {
   "cell_type": "code",
   "execution_count": 10,
   "metadata": {},
   "outputs": [
    {
     "name": "stdout",
     "output_type": "stream",
     "text": [
      "1 batch(s) covered!\n",
      "Vocabulary max size reached!\n",
      "2 batch(s) covered!\n",
      "Vocabulary max size reached!\n",
      "3 batch(s) covered!\n",
      "Vocabulary max size reached!\n",
      "4 batch(s) covered!\n",
      "Vocabulary max size reached!\n",
      "5 batch(s) covered!\n",
      "Vocabulary max size reached!\n",
      "6 batch(s) covered!\n",
      "Vocabulary max size reached!\n",
      "7 batch(s) covered!\n",
      "Vocabulary max size reached!\n",
      "8 batch(s) covered!\n",
      "Vocabulary max size reached!\n",
      "9 batch(s) covered!\n",
      "Vocabulary max size reached!\n",
      "10 batch(s) covered!\n",
      "Vocabulary max size reached!\n",
      "11 batch(s) covered!\n",
      "Vocabulary max size reached!\n",
      "12 batch(s) covered!\n",
      "Vocabulary max size reached!\n",
      "13 batch(s) covered!\n",
      "Vocabulary max size reached!\n",
      "14 batch(s) covered!\n",
      "Vocabulary max size reached!\n",
      "15 batch(s) covered!\n",
      "Vocabulary max size reached!\n",
      "16 batch(s) covered!\n",
      "Vocabulary max size reached!\n",
      "17 batch(s) covered!\n",
      "Vocabulary max size reached!\n",
      "18 batch(s) covered!\n",
      "Vocabulary max size reached!\n",
      "19 batch(s) covered!\n",
      "Vocabulary max size reached!\n",
      "20 batch(s) covered!\n",
      "Vocabulary max size reached!\n"
     ]
    }
   ],
   "source": [
    "for file_name in file_list:\n",
    "    with open(os.path.join(input_dir,file_name)) as f:\n",
    "        text = f.read()\n",
    "        text = vocab.preprocess_string(text,[(\":==:\",\" \"),('\\n\\n', \" \")])\n",
    "        word_list = vocab.tokenize(text)\n",
    "        vocab.feed_to_counter(word_list)\n",
    "    batch_count+=1\n",
    "    print(\"%d batch(s) covered!\" %batch_count)\n",
    "    counter = vocab.counter\n",
    "    vocab.counter_to_vocab(counter)"
   ]
  },
  {
   "cell_type": "code",
   "execution_count": 12,
   "metadata": {},
   "outputs": [],
   "source": [
    "import pickle\n",
    "with open('counter_cnn.pckl','wb') as f:\n",
    "    pickle.dump(counter,f)"
   ]
  },
  {
   "cell_type": "code",
   "execution_count": 13,
   "metadata": {},
   "outputs": [
    {
     "name": "stdout",
     "output_type": "stream",
     "text": [
      "Vocabulary max size reached!\n"
     ]
    }
   ],
   "source": [
    "vocab.counter_to_vocab(counter)"
   ]
  },
  {
   "cell_type": "code",
   "execution_count": 14,
   "metadata": {},
   "outputs": [
    {
     "data": {
      "text/plain": [
       "500"
      ]
     },
     "execution_count": 14,
     "metadata": {},
     "output_type": "execute_result"
    }
   ],
   "source": [
    "vocab.max_size"
   ]
  },
  {
   "cell_type": "code",
   "execution_count": 15,
   "metadata": {},
   "outputs": [],
   "source": [
    "import numpy as np\n",
    "np.save('word2idx.npy',vocab.w2i)\n",
    "np.save('idx2word.npy',vocab.i2w)"
   ]
  },
  {
   "cell_type": "code",
   "execution_count": 16,
   "metadata": {},
   "outputs": [],
   "source": [
    "w2i = np.load('word2idx.npy').item()\n",
    "i2w = np.load('idx2word.npy').item()"
   ]
  },
  {
   "cell_type": "code",
   "execution_count": 18,
   "metadata": {},
   "outputs": [
    {
     "data": {
      "text/plain": [
       "6"
      ]
     },
     "execution_count": 18,
     "metadata": {},
     "output_type": "execute_result"
    }
   ],
   "source": [
    "w2i['the']"
   ]
  },
  {
   "cell_type": "code",
   "execution_count": 19,
   "metadata": {},
   "outputs": [
    {
     "data": {
      "text/plain": [
       "'the'"
      ]
     },
     "execution_count": 19,
     "metadata": {},
     "output_type": "execute_result"
    }
   ],
   "source": [
    "i2w[6]"
   ]
  },
  {
   "cell_type": "code",
   "execution_count": null,
   "metadata": {},
   "outputs": [],
   "source": []
  }
 ],
 "metadata": {
  "kernelspec": {
   "display_name": "Python 3",
   "language": "python",
   "name": "python3"
  },
  "language_info": {
   "codemirror_mode": {
    "name": "ipython",
    "version": 3
   },
   "file_extension": ".py",
   "mimetype": "text/x-python",
   "name": "python",
   "nbconvert_exporter": "python",
   "pygments_lexer": "ipython3",
   "version": "3.5.2"
  }
 },
 "nbformat": 4,
 "nbformat_minor": 2
}
